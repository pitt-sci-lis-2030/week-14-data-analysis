{
 "cells": [
  {
   "cell_type": "markdown",
   "metadata": {},
   "source": [
    "# Python Exercises 5\n",
    "\n",
    "In this final, OPTIONAL exercises assignment, you will visualize data in several different ways, using Pandas, matplotlib, and a few other Python libraries. You will also do some basic data cleaning, joining, and manipulation.\n",
    "\n",
    "Let's import some important stuff!"
   ]
  },
  {
   "cell_type": "code",
   "execution_count": null,
   "metadata": {},
   "outputs": [],
   "source": [
    "import numpy as np\n",
    "import pandas as pd\n",
    "import matplotlib.pyplot as plt"
   ]
  },
  {
   "cell_type": "markdown",
   "metadata": {},
   "source": [
    "## 1. Cloudbusting\n",
    "\n",
    "Sometimes, the best way to visualize a text isn't with a chart, but with a different type of visualization. Let's try visualizing the frequency of words in the lyrics of your favorite song using a **word cloud**.\n",
    "\n",
    "First, let's make sure we have everything installed and imported."
   ]
  },
  {
   "cell_type": "code",
   "execution_count": null,
   "metadata": {},
   "outputs": [],
   "source": [
    "conda install wordcloud --yes"
   ]
  },
  {
   "cell_type": "code",
   "execution_count": null,
   "metadata": {},
   "outputs": [],
   "source": [
    "from wordcloud import WordCloud, STOPWORDS"
   ]
  },
  {
   "cell_type": "markdown",
   "metadata": {},
   "source": [
    "Now that we've got that squared away, it's time to get your favorite song lyrics. Create a multi-line string containing the lyrics to your favorite song (or whatever song is stuck in your head right now). Don't worry, you won't be graded on your musical taste!\n",
    "\n",
    "![never gonna](https://media.giphy.com/media/Ju7l5y9osyymQ/giphy-downsized.gif)"
   ]
  },
  {
   "cell_type": "code",
   "execution_count": null,
   "metadata": {},
   "outputs": [],
   "source": [
    "# create a string for your lyrics here"
   ]
  },
  {
   "cell_type": "code",
   "execution_count": null,
   "metadata": {},
   "outputs": [],
   "source": []
  },
  {
   "cell_type": "markdown",
   "metadata": {},
   "source": [
    "Then, we're going to clean the string and split it into an array of words. Using string methods, do the following:\n",
    "\n",
    "* remove any punctuation from your lyric string, like commas, dashes, or semicolons\n",
    "* make sure everything is lowercase\n",
    "\n",
    "Try printing your results to make sure everything looks good!"
   ]
  },
  {
   "cell_type": "code",
   "execution_count": null,
   "metadata": {},
   "outputs": [],
   "source": [
    "# clean your string here"
   ]
  },
  {
   "cell_type": "code",
   "execution_count": null,
   "metadata": {},
   "outputs": [],
   "source": []
  },
  {
   "cell_type": "markdown",
   "metadata": {},
   "source": [
    "Then, create the wordcloud! You should use `STOPWORDS` (which I imported for you at the beginning of this question) to exclude common English words from your visualization. You can check out the lecture notes on data visualization for more details about how to configure your wordcloud.\n",
    "\n",
    "Once you've created the wordcloud, use Matplotlib (`plt`) to show the image in your notebook!"
   ]
  },
  {
   "cell_type": "code",
   "execution_count": null,
   "metadata": {},
   "outputs": [],
   "source": [
    "# create your word cloud and plot it here"
   ]
  },
  {
   "cell_type": "code",
   "execution_count": null,
   "metadata": {},
   "outputs": [],
   "source": []
  },
  {
   "cell_type": "markdown",
   "metadata": {},
   "source": [
    "Beautiful!"
   ]
  },
  {
   "cell_type": "markdown",
   "metadata": {
    "id": "7kcFXz9uRHZ9"
   },
   "source": [
    "## 2. A Scatter of Libraries!\n",
    "\n",
    "Using the ```libraries_cleaned``` dataset, we are going to create a scatterplot from some of the columns. \n",
    "\n",
    "This data was taken from the [2014 Public Library Survey data](https://www.imls.gov/research-evaluation/data-collection/public-libraries-survey). Also, the data is fairly messy (as a lot of data can be) so it's been cleaned up a little bit already to make it easier to work with. \n",
    "\n",
    "If you follow the link, it will show you the documentation for the data and an explanation of each column. One major thing to note about this data is that each row is an aggregate count of data gathered from across mulitple libraries in one system. This means a lot of our data are very large numbers. \n",
    "\n",
    "But, we'll see that when we plot it!\n",
    "\n",
    "### 2.1 Read the dataset into a Pandas Dataframe\n",
    "\n",
    "Read the data into a dataframe and print the first 15 entries. "
   ]
  },
  {
   "cell_type": "code",
   "execution_count": null,
   "metadata": {},
   "outputs": [],
   "source": [
    "# code here"
   ]
  },
  {
   "cell_type": "code",
   "execution_count": null,
   "metadata": {
    "id": "SmZ0mvxc_jAm"
   },
   "outputs": [],
   "source": []
  },
  {
   "cell_type": "markdown",
   "metadata": {
    "id": "s8Fl5UnbSuy9"
   },
   "source": [
    "### 2.2 Clean the Data! \n",
    "\n",
    "Our dataset has a lot of columns which we are not going to use. \n",
    "\n",
    "Create a new dataset with a new set of columns from the original one. \n",
    "\n",
    "Your dataset should be named ```library_data``` and contain the following columns: \n",
    "\n",
    "State, Library Name, State Code, Bookmobiles, Librarians, Print Collection, Library Programs, and Public Internet Computers"
   ]
  },
  {
   "cell_type": "code",
   "execution_count": null,
   "metadata": {},
   "outputs": [],
   "source": [
    "# create your new subset here"
   ]
  },
  {
   "cell_type": "code",
   "execution_count": null,
   "metadata": {
    "id": "NI8bDwKA_pUV"
   },
   "outputs": [],
   "source": []
  },
  {
   "cell_type": "markdown",
   "metadata": {
    "id": "xLstCC-FaozR"
   },
   "source": [
    "### 2.3 Make the plot! (Finally!)\n",
    "\n",
    "Now that our dataset is all squeaky clean, we can go ahead and plot it. \n",
    "\n",
    "Create a scatterplot plotting the number librarians and the size of a library system's print collection. \n",
    "\n",
    "Create labels for your x and y axis and for your graph. If you want to experiment with the color and size of your plot points, that would be cool! "
   ]
  },
  {
   "cell_type": "code",
   "execution_count": null,
   "metadata": {},
   "outputs": [],
   "source": [
    "# plot your data here"
   ]
  },
  {
   "cell_type": "code",
   "execution_count": null,
   "metadata": {},
   "outputs": [],
   "source": []
  },
  {
   "cell_type": "markdown",
   "metadata": {
    "id": "jlg09rB2bqHA"
   },
   "source": [
    "## 3. Barcharts and Bookmobiles! \n",
    "\n",
    "We want to create a barchart of the number of bookmobiles in each state. However, when we print the final barchart we want to have the name of the state be displayed on the x-axis and we currently don't have that information in our data! \n",
    "\n",
    "We can fix that by reading in another dataset and merging it with our library data. \n",
    "\n",
    "### 3.1 Read in the data!\n",
    "Read the  ```us_state_ansi_fips``` dataset into a dataframe and call it ```state_codes```. You can explore this data if you want, it has three columns with state name, abbreviation, and fips code (number). "
   ]
  },
  {
   "cell_type": "code",
   "execution_count": null,
   "metadata": {},
   "outputs": [],
   "source": [
    "# read state data here"
   ]
  },
  {
   "cell_type": "code",
   "execution_count": null,
   "metadata": {
    "id": "uyOGwogOMjKX"
   },
   "outputs": [],
   "source": []
  },
  {
   "cell_type": "markdown",
   "metadata": {
    "id": "H2tO9AO1c4Qu"
   },
   "source": [
    "### 3.2 Sum up the States! \n",
    "\n",
    "Using the ```.groupby``` on the ```State Code``` column sum up all of your data and save it to a new dataset called ```library_counts```"
   ]
  },
  {
   "cell_type": "code",
   "execution_count": null,
   "metadata": {},
   "outputs": [],
   "source": [
    "# code here!"
   ]
  },
  {
   "cell_type": "code",
   "execution_count": null,
   "metadata": {
    "id": "YmxX_Ao92lu3"
   },
   "outputs": [],
   "source": []
  },
  {
   "cell_type": "markdown",
   "metadata": {
    "id": "XFZjrToxeQF0"
   },
   "source": [
    "### 3.3 Merge the data\n",
    "\n",
    "Merge the ```library_counts``` and ```state_codes``` data together using an inner join.\n",
    "\n",
    "**Hint:** The left join will use the ```left_index``` set to ```True``` because the column we want to join on is the index. The right join should be on the ```'st'``` column"
   ]
  },
  {
   "cell_type": "code",
   "execution_count": null,
   "metadata": {},
   "outputs": [],
   "source": [
    "# now we merge here"
   ]
  },
  {
   "cell_type": "code",
   "execution_count": null,
   "metadata": {
    "executionInfo": {
     "elapsed": 129,
     "status": "ok",
     "timestamp": 1649708119130,
     "user": {
      "displayName": "Ruth A Carpenter",
      "userId": "08020559866268858926"
     },
     "user_tz": 240
    },
    "id": "9HzHWdrxNe-A"
   },
   "outputs": [],
   "source": []
  },
  {
   "cell_type": "markdown",
   "metadata": {
    "id": "EzCHMY_ffY-_"
   },
   "source": [
    "## 3.4 Plot it. \n",
    "\n",
    "Now that our data is merged and ready to go we can create a plot! \n",
    "\n",
    "Make a barchart that displays the number of bookmobiles in each state. Set the x-axis to the be the state name and y-axis to be the number of bookmobiles. \n",
    "\n",
    "Be sure to label you axis and title your plot and to make it big enough to read! You can change the size using ```plt.figure(figsize=())``` and setting ```figsize``` to the height and width you want!\n",
    "\n",
    "\n",
    "**hint:** you can use this code: ```plt.xticks(rotation='vertical')``` to set your x-axis to be vertical and therefore a little easier to see. "
   ]
  },
  {
   "cell_type": "code",
   "execution_count": null,
   "metadata": {},
   "outputs": [],
   "source": [
    "# make your plot here"
   ]
  },
  {
   "cell_type": "code",
   "execution_count": null,
   "metadata": {
    "colab": {
     "base_uri": "https://localhost:8080/",
     "height": 819
    },
    "executionInfo": {
     "elapsed": 985,
     "status": "ok",
     "timestamp": 1649712928423,
     "user": {
      "displayName": "Ruth A Carpenter",
      "userId": "08020559866268858926"
     },
     "user_tz": 240
    },
    "id": "N9JmrOUgpYGw",
    "outputId": "dbc8e243-b2bb-4efe-a394-25166127cbbb"
   },
   "outputs": [],
   "source": []
  },
  {
   "cell_type": "markdown",
   "metadata": {},
   "source": [
    "## 4. Trees N'at\n",
    "\n",
    "To close for today, let's get out in nature. You'll be working with the \"City of Pittsburgh Trees\" dataset for this question. \n",
    "\n",
    "Let's import the dataset from the WPRDC!\n",
    "\n",
    "While you're waiting for this to import, you should check out the [dataset page](https://data.wprdc.org/dataset/city-trees) and [data dictionary](https://data.wprdc.org/dataset/city-trees/resource/d47d47da-5044-417c-a24d-8366fd7b1a09) for a little more context. There's a ton of information here!"
   ]
  },
  {
   "cell_type": "code",
   "execution_count": null,
   "metadata": {},
   "outputs": [],
   "source": [
    "# import and print the first few rows of the data\n",
    "pgh_trees = pd.read_csv('https://data.wprdc.org/datastore/dump/1515a93c-73e3-4425-9b35-1cd11b2196da', low_memory=False)\n",
    "pgh_trees.head()"
   ]
  },
  {
   "cell_type": "markdown",
   "metadata": {},
   "source": [
    "Let's also clean this dataset a little bit by removing any rows that are missing their common name."
   ]
  },
  {
   "cell_type": "code",
   "execution_count": null,
   "metadata": {},
   "outputs": [],
   "source": [
    "# get rid of any tree that does not have a common name\n",
    "pgh_trees = pgh_trees[pgh_trees['common_name'].notna()].copy()"
   ]
  },
  {
   "cell_type": "markdown",
   "metadata": {},
   "source": [
    "### 4.1 How Many Trees Are There?\n",
    "\n",
    "Find how many unique types of trees there are in this dataset. You can use the common or scientific name to make this determination, but we will be plotting the data using the common name."
   ]
  },
  {
   "cell_type": "code",
   "execution_count": null,
   "metadata": {},
   "outputs": [],
   "source": [
    "# your code here"
   ]
  },
  {
   "cell_type": "code",
   "execution_count": null,
   "metadata": {},
   "outputs": [],
   "source": []
  },
  {
   "cell_type": "markdown",
   "metadata": {},
   "source": [
    "That's way too many to visualize with a chart! \n",
    "\n",
    "### 4.2 Tree Trimming\n",
    "\n",
    "You can see from looking at the common names of the trees that the type of tree is generally formatted like this: `Maple: Norwood`, with the general type of tree first, and the specific type after a colon. (Except for stumps. Poor stumps.)\n",
    "\n",
    "Let's create a new column in the dataset by getting just the first part of the common name. Call this new column `tree_type`.\n",
    "\n",
    "**hint**: you can use `.str.split(':').str[0]` in pandas to split strings wherever there's a colon and select the first part of the string!"
   ]
  },
  {
   "cell_type": "code",
   "execution_count": null,
   "metadata": {},
   "outputs": [],
   "source": [
    "# trim your trees here"
   ]
  },
  {
   "cell_type": "code",
   "execution_count": null,
   "metadata": {},
   "outputs": [],
   "source": []
  },
  {
   "cell_type": "markdown",
   "metadata": {},
   "source": [
    "### 4.3 Tree Pruning\n",
    "\n",
    "Great! Now, let's see how many different trees there are in each type. Group your data by your new `tree_type` column and get your `.count()` values for each tree type, and assign it to a new series, `tree_counts`."
   ]
  },
  {
   "cell_type": "code",
   "execution_count": null,
   "metadata": {},
   "outputs": [],
   "source": [
    "# code here"
   ]
  },
  {
   "cell_type": "code",
   "execution_count": null,
   "metadata": {},
   "outputs": [],
   "source": []
  },
  {
   "cell_type": "markdown",
   "metadata": {},
   "source": [
    "Looking good! But there are still 100+ tree types! Let's filter our counts for only those that have more than ten trees. Save that as a new variable, `filtered_tree_counts`.\n",
    "\n",
    "**hint**: Try creating a mask for tree counts that are greater than 100."
   ]
  },
  {
   "cell_type": "code",
   "execution_count": null,
   "metadata": {},
   "outputs": [],
   "source": [
    "# filter here"
   ]
  },
  {
   "cell_type": "code",
   "execution_count": null,
   "metadata": {},
   "outputs": [],
   "source": []
  },
  {
   "cell_type": "markdown",
   "metadata": {},
   "source": [
    "### 4.4 Plot the Trees!\n",
    "\n",
    "Now, visualize these tree counts in whatever form seems best to you! Try changing up the colors and look/feel of your chart."
   ]
  },
  {
   "cell_type": "code",
   "execution_count": null,
   "metadata": {},
   "outputs": [],
   "source": [
    "# make your plot here"
   ]
  },
  {
   "cell_type": "code",
   "execution_count": null,
   "metadata": {},
   "outputs": [],
   "source": []
  },
  {
   "cell_type": "markdown",
   "metadata": {},
   "source": [
    "Sure are a lot of maple trees, huh."
   ]
  }
 ],
 "metadata": {
  "interpreter": {
   "hash": "aee8b7b246df8f9039afb4144a1f6fd8d2ca17a180786b69acc140d282b71a49"
  },
  "kernelspec": {
   "display_name": "Python 3 (ipykernel)",
   "language": "python",
   "name": "python3"
  },
  "language_info": {
   "codemirror_mode": {
    "name": "ipython",
    "version": 3
   },
   "file_extension": ".py",
   "mimetype": "text/x-python",
   "name": "python",
   "nbconvert_exporter": "python",
   "pygments_lexer": "ipython3",
   "version": "3.8.8"
  }
 },
 "nbformat": 4,
 "nbformat_minor": 4
}
